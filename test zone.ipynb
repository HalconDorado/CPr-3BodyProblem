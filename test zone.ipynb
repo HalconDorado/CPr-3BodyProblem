{
 "cells": [
  {
   "cell_type": "code",
   "execution_count": 8,
   "metadata": {},
   "outputs": [
    {
     "name": "stdout",
     "output_type": "stream",
     "text": [
      "hello world\n"
     ]
    }
   ],
   "source": [
    "import scipy as scp\n",
    "import numpy as np\n",
    "import time\n",
    "from datetime import timedelta\n",
    "\n",
    "\n",
    "\n",
    "print(\"hello world\")\n"
   ]
  },
  {
   "cell_type": "code",
   "execution_count": 26,
   "metadata": {},
   "outputs": [
    {
     "name": "stdout",
     "output_type": "stream",
     "text": [
      "   DEBUG LEVEL START\n",
      "Start time = 1697126100.4413605\n",
      "S position          = [1. 2.]\n",
      "S velocity          = [4. 5.]\n",
      "S acceleration      = [0. 0.]\n",
      "1697126100.4413605\n",
      "S position          = [1. 2.]\n",
      "S position          = [1. 2.]\n",
      "S velocity     = [4. 5.]\n",
      "S acceleration = [0. 0.]\n",
      "P = 2357285.970587522\n",
      "HR P = 27 days, 6:48:05.970588\n",
      "<built-in function globals>\n"
     ]
    }
   ],
   "source": [
    "#class gb():\n",
    "start_time = time.time()\n",
    "end_time = 0\n",
    "def debug(level='partial'):\n",
    "    match level:\n",
    "        case 'partial':\n",
    "            print('   DEBUG LEVEL PARTIAL')\n",
    "            print(\"Iteration {} at current time = {}\".format(stepN, t))\n",
    "            printAlligned('S position',Spos)\n",
    "            printAlligned('S velocity', Svel)\n",
    "            printAlligned('S acceleration', Sacc)\n",
    "        case 'full':\n",
    "            print('   DEBUG LEVEL FULL')\n",
    "            print(\"List of globals:\")\n",
    "            print(\"Iteration {} at current time = {}\".format(stepN, t))\n",
    "            printAlligned('S position',Spos)\n",
    "            printAlligned('S velocity', Svel)\n",
    "            printAlligned('S acceleration', Sacc)\n",
    "        case 'start':\n",
    "            print('   DEBUG LEVEL START')\n",
    "            print(\"Start time = {}\".format(start_time))\n",
    "            printAlligned('S position',Spos)\n",
    "            printAlligned('S velocity', Svel)\n",
    "            printAlligned('S acceleration', Sacc)\n",
    "        case 'end':\n",
    "            print('   DEBUG LEVEL END')\n",
    "            end_time = time.time()\n",
    "            print(\"Wall runtime = {}\".format(timedelta(end_time-start_time)))\n",
    "def initialize(inSpos,inSvel,stepsize=[1,1],startdebuglevel='start'):\n",
    "    # Constants\n",
    "    global G0, d, Me, Mm, Mt, Re, Rm, P, aSt, aDy, stepN, t\n",
    "    G0 = 6.6726e-11\n",
    "    d = 3.844e5\n",
    "    Me = 5.9742e24\n",
    "    Mm = 7.35e22\n",
    "    Mt = Me + Mm\n",
    "    Re = d*Mm/Mt\n",
    "    Rm = d*Me/Mt\n",
    "    P = np.sqrt(4 * np.pi**2 * (d*1000)**3 / G0 / Mt)\n",
    "    aSt = stepsize[0]\n",
    "    \n",
    "\n",
    "    # Variables\n",
    "    aDy = stepsize[1]\n",
    "    stepN = 0\n",
    "    t = 0\n",
    "\n",
    "    # Vectors\n",
    "    global Spos, Svel, Sacc\n",
    "\n",
    "    Epos = np.array([-Re,0])\n",
    "\n",
    "    Mpos = np.array([Rm,0])\n",
    "\n",
    "    Spos = np.array(inSpos)\n",
    "    Svel = np.array(inSvel)\n",
    "    Sacc = np.zeros(2)\n",
    "    debug(startdebuglevel)\n",
    "initialize([1.0,2.0],[4.0,5.0])\n",
    "def printAlligned(message,variable):\n",
    "    output = print(\"{:20s}= {}\".format(message, variable))\n",
    "    return output\n",
    "\n",
    "\n",
    "print(start_time)\n",
    "printAlligned('S position',Spos)\n",
    "print(\"{:20s}= {}\".format('S position',Spos))\n",
    "print(\"S velocity     = {}\".format(Svel))\n",
    "print(\"S acceleration = {}\".format(Sacc))\n",
    "print(\"P = {}\".format(P))\n",
    "print(\"HR P = {}\".format(timedelta(seconds = P)))\n",
    "\n",
    "def Epos(time):\n",
    "    output = np.array([-Re*np.cos(time/P),-Re*np.sin(time/P)])\n",
    "    return output\n",
    "def Mpos(time):\n",
    "    output = np.array([Rm*np.cos(time/P),Rm*np.sin(time/P)])\n",
    "    return output\n",
    "def integrateStep(upper, stop):\n",
    "    return None\n",
    "print(globals)"
   ]
  },
  {
   "cell_type": "code",
   "execution_count": 18,
   "metadata": {},
   "outputs": [
    {
     "name": "stdout",
     "output_type": "stream",
     "text": [
      "27 days, 6:48:05.970588\n"
     ]
    }
   ],
   "source": [
    "a = 2357285.970587522\n",
    "b = timedelta(seconds = a)\n",
    "print(b)"
   ]
  }
 ],
 "metadata": {
  "kernelspec": {
   "display_name": "Python 3",
   "language": "python",
   "name": "python3"
  },
  "language_info": {
   "codemirror_mode": {
    "name": "ipython",
    "version": 3
   },
   "file_extension": ".py",
   "mimetype": "text/x-python",
   "name": "python",
   "nbconvert_exporter": "python",
   "pygments_lexer": "ipython3",
   "version": "3.11.0"
  },
  "orig_nbformat": 4
 },
 "nbformat": 4,
 "nbformat_minor": 2
}
