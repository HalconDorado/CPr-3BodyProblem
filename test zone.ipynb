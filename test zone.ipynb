{
 "cells": [
  {
   "cell_type": "code",
   "execution_count": 2,
   "metadata": {},
   "outputs": [
    {
     "name": "stdout",
     "output_type": "stream",
     "text": [
      "hello world\n"
     ]
    }
   ],
   "source": [
    "import scipy as scp\n",
    "import numpy as np\n",
    "\n",
    "\n",
    "\n",
    "print(\"hello world\")\n"
   ]
  },
  {
   "cell_type": "code",
   "execution_count": 13,
   "metadata": {},
   "outputs": [
    {
     "name": "stdout",
     "output_type": "stream",
     "text": [
      "[1 2 3]\n",
      "[4 5 6]\n"
     ]
    }
   ],
   "source": [
    "def initialize(inPos,inVel,stepsize=0.1):\n",
    "    G0 = 2\n",
    "    d = 1\n",
    "    M_e = 1\n",
    "    M_m = 1\n",
    "\n",
    "    \n",
    "    global pos\n",
    "    global vel\n",
    "    pos = np.array(inPos)\n",
    "    vel = np.array(inVel)\n",
    "initialize([1,2,3],[4,5,6])\n",
    "print(pos)\n",
    "print(vel)"
   ]
  }
 ],
 "metadata": {
  "kernelspec": {
   "display_name": "Python 3",
   "language": "python",
   "name": "python3"
  },
  "language_info": {
   "codemirror_mode": {
    "name": "ipython",
    "version": 3
   },
   "file_extension": ".py",
   "mimetype": "text/x-python",
   "name": "python",
   "nbconvert_exporter": "python",
   "pygments_lexer": "ipython3",
   "version": "3.11.2"
  },
  "orig_nbformat": 4
 },
 "nbformat": 4,
 "nbformat_minor": 2
}
