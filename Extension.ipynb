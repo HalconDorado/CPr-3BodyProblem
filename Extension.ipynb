{
 "cells": [
  {
   "cell_type": "markdown",
   "metadata": {},
   "source": [
    "# Outline: #\n",
    "- Initialize\n",
    "    - Imports\n",
    "    - Definitions, variables, and dictionaries"
   ]
  },
  {
   "cell_type": "code",
   "execution_count": 2,
   "metadata": {},
   "outputs": [
    {
     "name": "stdout",
     "output_type": "stream",
     "text": [
      "all libraries imported! c;\n"
     ]
    }
   ],
   "source": [
    "import numpy as np\n",
    "import scipy as scp\n",
    "import matplotlib.pyplot as plt\n",
    "import time\n",
    "import datetime\n",
    "\n",
    "print('all libraries imported! c;')"
   ]
  },
  {
   "cell_type": "code",
   "execution_count": null,
   "metadata": {},
   "outputs": [],
   "source": [
    "def initVariables(mode): #WHAT IS A GOOD WAY TO PASS MANY PARAMETERS INTO AN INITIALIZATION FUNCTION??\n",
    "    global MoonsVarsDict\n",
    "    MoonsVarsDict = {\n",
    "        'numberOfMoons': mode[0].count(1),\n",
    "        'moonsList': mode[0],\n",
    "        'moonsOrbitShape': mode[1],\n",
    "        'moonsOrbitType': mode[2]\n",
    "    }\n",
    "    return None\n",
    "\n",
    "def initConstants(mode):\n",
    "    global ConstantsDict\n",
    "    mode0 = mode[0]\n",
    "    mode1 = mode[1]\n",
    "    mode2 = mode[2]\n",
    "    match mode2:\n",
    "        case 'restricted':\n",
    "            ConstantsDict = {\n",
    "                'Gravitational Constant': 6.6726e-11,           #unreferenced\n",
    "                'Saturn Mass': -10,                             #unfilled and unreferenced\n",
    "                'Saturn Radius': -10,                           #unfilled and unreferenced\n",
    "\n",
    "            }\n",
    "    return None\n",
    "\n",
    "def initMoonsDictionary(mode):\n",
    "    global MoonsDict\n",
    "    match mode:\n",
    "        case 'circular':\n",
    "            MoonsDict = {\n",
    "                'name': ['Mimas', 'Enceladus', 'Tethys', 'Dione', 'Rhea', 'Titan', 'Iapetus'],\n",
    "                'mass': [3.75094e19, 1.080318e20, 6.174959e20, 1.0954868e21, 2.3064854e21, 1.345180354e23, 1.8056591e21], #unreferenced and also, try masses in mega-grams\n",
    "                'semi-majorAxis': []\n",
    "            }\n",
    "        case 'elliptical':\n",
    "            MoonsDict = {\n",
    "                'name': ['Mimas', 'Enceladus', 'Tethys', 'Dione', 'Rhea', 'Titan', 'Iapetus'],\n",
    "                'mass': [3.75094e19, 1.080318e20, 6.174959e20, 1.0954868e21, 2.3064854e21, 1.345180354e23, 1.8056591e21], #unreferenced and also, try masses in mega-grams \n",
    "                'semi-majorAxis': []\n",
    "                '': #need catalogue of observed positions and velocities of major moons\n",
    "            }\n",
    "    return None\n",
    "\n",
    "def initIntegratorArray():\n",
    "    \n",
    "    return None\n",
    "\n",
    "def init(mode):\n",
    "# pass list of moons to initialization, circular/elliptical, restricted/unrestricted\n",
    "    initVariables(mode)\n",
    "    initConstants(mode)\n",
    "    initMoonsDictionary(mode)\n",
    "    return None\n",
    "\n",
    "\n",
    "init(([1,1,1,1,1,1,1,], 'circular', 'restricted'))"
   ]
  },
  {
   "cell_type": "code",
   "execution_count": null,
   "metadata": {},
   "outputs": [],
   "source": []
  }
 ],
 "metadata": {
  "kernelspec": {
   "display_name": "Python 3",
   "language": "python",
   "name": "python3"
  },
  "language_info": {
   "codemirror_mode": {
    "name": "ipython",
    "version": 3
   },
   "file_extension": ".py",
   "mimetype": "text/x-python",
   "name": "python",
   "nbconvert_exporter": "python",
   "pygments_lexer": "ipython3",
   "version": "3.11.0"
  }
 },
 "nbformat": 4,
 "nbformat_minor": 2
}
