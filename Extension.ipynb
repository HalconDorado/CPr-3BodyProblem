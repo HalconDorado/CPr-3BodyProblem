{
 "cells": [
  {
   "cell_type": "markdown",
   "metadata": {},
   "source": [
    "# Outline: #\n",
    "- Initialize\n",
    "    - Imports\n",
    "    - Definitions, variables, and dictionaries"
   ]
  },
  {
   "cell_type": "code",
   "execution_count": 32,
   "metadata": {},
   "outputs": [
    {
     "name": "stdout",
     "output_type": "stream",
     "text": [
      "all libraries imported! c;\n"
     ]
    }
   ],
   "source": [
    "import numpy as np\n",
    "import scipy as scp\n",
    "import matplotlib.pyplot as plt\n",
    "import time\n",
    "import datetime\n",
    "\n",
    "print('all libraries imported! c;')"
   ]
  },
  {
   "cell_type": "code",
   "execution_count": null,
   "metadata": {},
   "outputs": [],
   "source": [
    "'''README\n",
    "    Units:\n",
    "Force: N\n",
    "Distance: Mm (megameters)\n",
    "Mass: Gg (Gigagrams)        \n",
    "\n",
    "m   --> Mm  *e-6\n",
    "kg  --> Gg  *e-6\n",
    "\n",
    "Constants in new units from SI units:\n",
    "Gravitational constant 6.6726e-11  N m2 kg-2        --> 6.6726e-11  N Mm2 Gg-2\n",
    "\n",
    "'''\n",
    "\n",
    "def initVariables(mode): #WHAT IS A GOOD WAY TO PASS MANY PARAMETERS INTO AN INITIALIZATION FUNCTION??\n",
    "    global MoonsVarsDict\n",
    "    MoonsVarsDict = {\n",
    "\n",
    "        'numberOfMoons': mode[0].count(1),\n",
    "        'moonsList': mode[0],\n",
    "        'moonsOrbitShape': mode[1],\n",
    "        'moonsOrbitType': mode[2],\n",
    "        'numberOfParticles': mode[3],\n",
    "        'initialDistributionType': mode[4]\n",
    "    }\n",
    "    return None\n",
    "\n",
    "def initConstants(localMode):\n",
    "    global ConstantsDict\n",
    "    match localMode:\n",
    "        case 'restricted':\n",
    "            ConstantsDict = {\n",
    "                'Gravitational Constant': 6.6726e-11,           #unreferenced\n",
    "                'Saturn Mass': -10,                             #unfilled and unreferenced\n",
    "                'Saturn Radius': -10,                           #unfilled and unreferenced\n",
    "                'elements': np.array([ 1.95683334e-01, -2.07967708e-01,  8.89114822e-02,  1.00287582e-06,\n",
    "        7.10261281e-07, -4.62358562e-07,  9.97617585e-07,  2.99078228e-01,\n",
    "        2.48285806e-08]),\n",
    "                ''\n",
    "            }\n",
    "    return None\n",
    "\n",
    "def initMoonsDictionary(mode):\n",
    "    global MoonsDict\n",
    "    match mode:\n",
    "        case 'circular':\n",
    "            MoonsDict = {\n",
    "                'name': ['Mimas', 'Enceladus', 'Tethys', 'Dione', 'Rhea', 'Titan', 'Iapetus'],\n",
    "                'mass': [3.75094e19, 1.080318e20, 6.174959e20, 1.0954868e21, 2.3064854e21, 1.345180354e23, 1.8056591e21], #unreferenced and also, try masses in mega-grams\n",
    "                'semi-majorAxis': [186, 238.4, 295, 377.7, 527.2, 1221.9, 3561.7], #JPL Mean elements\n",
    "                'elements': np.array([[-1.12774495e+02,  1.37769404e+02, -6.15442605e+01,\n",
    "        -1.11522197e-02, -7.32502779e-03,  4.48190526e-03,\n",
    "         6.28360667e-04,  1.88377789e+02, -1.44997560e-04],\n",
    "       [-2.37504674e+02,  4.38287375e+00,  2.07516961e+01,\n",
    "         3.41979024e-04, -1.11706534e-02,  5.81982969e-03,\n",
    "         7.95382958e-04,  2.38449812e+02, -3.94625721e-05],\n",
    "       [-2.16465458e+02, -1.68425522e+02,  1.07915081e+02,\n",
    "         7.61827803e-03, -7.81392642e-03,  3.11628009e-03,\n",
    "         9.83138032e-04,  2.94737367e+02,  1.10750003e-05],\n",
    "       [-1.78507630e+02, -2.87400621e+02,  1.67876593e+02,\n",
    "         8.79997358e-03, -4.55139058e-03,  1.52685661e-03,\n",
    "         1.25982456e-03,  3.77685903e+02, -1.71212616e-05],\n",
    "       [-4.20266046e+02,  2.97492400e+02, -1.13714237e+02,\n",
    "        -5.06391274e-03, -5.78324263e-03,  3.56885352e-03,\n",
    "         1.75891800e-03,  5.27310350e+02,  3.58498357e-06],\n",
    "       [-7.76758503e+02,  9.02355914e+02, -3.89577017e+02,\n",
    "        -4.27821397e-03, -2.78299533e-03,  1.85622920e-03,\n",
    "         4.17870777e-03,  1.25274507e+03,  7.08384752e-05],\n",
    "       [-2.93445621e+03, -1.90942637e+03,  1.04088540e+03,\n",
    "         1.82417062e-03, -2.59469624e-03,  2.47649163e-04,\n",
    "         1.21832589e-02,  3.65244914e+03, -3.85475538e-05]])\n",
    "            }\n",
    "        case 'elliptical':\n",
    "            MoonsDict = {\n",
    "                'name': ['Mimas', 'Enceladus', 'Tethys', 'Dione', 'Rhea', 'Titan', 'Iapetus'],\n",
    "                'mass': [3.75094e19, 1.080318e20, 6.174959e20, 1.0954868e21, 2.3064854e21, 1.345180354e23, 1.8056591e21], #unreferenced and also, try masses in mega-grams \n",
    "                'semi-majorAxis': [],\n",
    "                'elements': np.array([[-1.12774495e+02,  1.37769404e+02, -6.15442605e+01,\n",
    "        -1.11522197e-02, -7.32502779e-03,  4.48190526e-03,\n",
    "         6.28360667e-04,  1.88377789e+02, -1.44997560e-04],\n",
    "       [-2.37504674e+02,  4.38287375e+00,  2.07516961e+01,\n",
    "         3.41979024e-04, -1.11706534e-02,  5.81982969e-03,\n",
    "         7.95382958e-04,  2.38449812e+02, -3.94625721e-05],\n",
    "       [-2.16465458e+02, -1.68425522e+02,  1.07915081e+02,\n",
    "         7.61827803e-03, -7.81392642e-03,  3.11628009e-03,\n",
    "         9.83138032e-04,  2.94737367e+02,  1.10750003e-05],\n",
    "       [-1.78507630e+02, -2.87400621e+02,  1.67876593e+02,\n",
    "         8.79997358e-03, -4.55139058e-03,  1.52685661e-03,\n",
    "         1.25982456e-03,  3.77685903e+02, -1.71212616e-05],\n",
    "       [-4.20266046e+02,  2.97492400e+02, -1.13714237e+02,\n",
    "        -5.06391274e-03, -5.78324263e-03,  3.56885352e-03,\n",
    "         1.75891800e-03,  5.27310350e+02,  3.58498357e-06],\n",
    "       [-7.76758503e+02,  9.02355914e+02, -3.89577017e+02,\n",
    "        -4.27821397e-03, -2.78299533e-03,  1.85622920e-03,\n",
    "         4.17870777e-03,  1.25274507e+03,  7.08384752e-05],\n",
    "       [-2.93445621e+03, -1.90942637e+03,  1.04088540e+03,\n",
    "         1.82417062e-03, -2.59469624e-03,  2.47649163e-04,\n",
    "         1.21832589e-02,  3.65244914e+03, -3.85475538e-05]])#Horizons System Ephemeris Data for 2000-01-01\n",
    "                \n",
    "            }\n",
    "    return None\n",
    "\n",
    "def initIntegratorArray():\n",
    "\n",
    "    return None\n",
    "\n",
    "def init(mode):\n",
    "# pass list of moons to initialization, circular/elliptical, restricted/unrestricted\n",
    "    initVariables(mode)\n",
    "    initMoonsDictionary(mode[1])\n",
    "    initConstants(mode[2])\n",
    "    return None\n",
    "\n",
    "#     moons list , orbitShape, 3BP orbitType, #particles,distrShape,distrlims,\n",
    "init(([1,1,1,1,1,1,1], 'circular', 'restricted', 100, 'flatRadial', [84.77, 150.7022312]))"
   ]
  },
  {
   "cell_type": "code",
   "execution_count": null,
   "metadata": {},
   "outputs": [],
   "source": [
    "def ODESolve(t_0, t_f, dt, initBool, initModeTuple=None, progress='none'):\n",
    "    match initBool:\n",
    "        case True:\n",
    "            init(initModeTuple)\n",
    "        case False:\n",
    "            pass\n",
    "            "
   ]
  },
  {
   "cell_type": "code",
   "execution_count": 1,
   "metadata": {},
   "outputs": [],
   "source": [
    "import os\n"
   ]
  },
  {
   "cell_type": "code",
   "execution_count": 4,
   "metadata": {},
   "outputs": [
    {
     "name": "stdout",
     "output_type": "stream",
     "text": [
      "['dione_horizons_results.txt', 'enceladus_horizons_results.txt', 'iapetus_horizons_results.txt', 'mimas_horizons_results.txt', 'rhea_horizons_results.txt', 'saturn_horizons_results.txt', 'tethys_horizons_results.txt', 'titan_horizons_results.txt']\n",
      "c:\\Users\\Kenneth\\Desktop\\Stuff\\Documents\\Study\\Durham\\L3\\3561 CPr\\CPr-3BodyProblem\\Ephemeris Data\n"
     ]
    }
   ],
   "source": [
    "'''print(os.listdir())\n",
    "print('current working directory: {}'.format(os.getcwd()))\n",
    "os.chdir('Ephemeris Data')'''\n",
    "print(os.listdir())\n",
    "print(os.getcwd())\n"
   ]
  },
  {
   "cell_type": "code",
   "execution_count": null,
   "metadata": {},
   "outputs": [],
   "source": [
    "separatorsList = [' X =', ' Y =', ' Z =', ' VX=', ' VY=', ' VZ=', ' LT=', ' RG=', ' RR=', '2451545.500000000 = A.D. 2000-Jan-02 00:00:00.0000 TDB ']\n",
    "namesList = ['Mimas', 'Enceladus', 'Tethys', 'Dione', 'Rhea', 'Titan', 'Iapetus']\n",
    "elements = []\n",
    "\n",
    "def readElements(name):\n",
    "    file = open(name + '_horizons_results.txt', 'r')\n",
    "    print(name + '.txt')\n",
    "    print(file)\n",
    "    outputlist = []\n",
    "    contents = file.read()\n",
    "    for i in range(len(separatorsList) - 1):\n",
    "        temporary = contents\n",
    "        temporary = temporary.split(separatorsList[i], 1)[1]\n",
    "        temporary = temporary.split(separatorsList[i+1], 1)[0]\n",
    "        temporary = temporary.rstrip().lstrip()\n",
    "        temporary = temporary.casefold()\n",
    "        temporary = float(temporary)\n",
    "        outputlist.append(temporary)\n",
    "    print(outputlist)\n",
    "    return outputlist\n",
    "'''for name in namesList:\n",
    "    elements.append(readElements(name))\n",
    "elements = np.array(elements)\n",
    "print(elements)\n",
    "elements = elements/1e3\n",
    "print(repr(elements))\n",
    "elements'''\n",
    "\n",
    "'''x = np.array(readElements('saturn'))\n",
    "print(x)\n",
    "x = x/1e3\n",
    "print(x)\n",
    "print(repr(x))'''\n"
   ]
  }
 ],
 "metadata": {
  "kernelspec": {
   "display_name": "Python 3",
   "language": "python",
   "name": "python3"
  },
  "language_info": {
   "codemirror_mode": {
    "name": "ipython",
    "version": 3
   },
   "file_extension": ".py",
   "mimetype": "text/x-python",
   "name": "python",
   "nbconvert_exporter": "python",
   "pygments_lexer": "ipython3",
   "version": "3.11.2"
  }
 },
 "nbformat": 4,
 "nbformat_minor": 2
}
