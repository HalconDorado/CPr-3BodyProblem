{
 "cells": [
  {
   "cell_type": "markdown",
   "metadata": {},
   "source": [
    "# Outline: #\n",
    "- Initialize\n",
    "    - Imports\n",
    "    - Definitions, variables, and dictionaries"
   ]
  },
  {
   "cell_type": "code",
   "execution_count": 2,
   "metadata": {},
   "outputs": [
    {
     "name": "stdout",
     "output_type": "stream",
     "text": [
      "all libraries imported! c;\n"
     ]
    }
   ],
   "source": [
    "import numpy as np\n",
    "import scipy as scp\n",
    "import matplotlib.pyplot as plt\n",
    "import time\n",
    "import datetime\n",
    "\n",
    "print('all libraries imported! c;')"
   ]
  },
  {
   "cell_type": "code",
   "execution_count": null,
   "metadata": {},
   "outputs": [],
   "source": [
    "def initVariables(inMoonsNum): #WHAT IS A GOOD WAY TO PASS MANY PARAMETERS INTO AN INITIALIZATION FUNCTION??\n",
    "    global numberOfMoons\n",
    "    numberOfMoons = inMoonsNum\n",
    "    return None\n",
    "\n",
    "def initConstants():\n",
    "    global ConstantsDict\n",
    "    ConstantsDict = {\n",
    "        'Gravitational Constant': 6.6726e-11,           #unreferenced\n",
    "        'Saturn Mass': -10,                             #unfilled and unreferenced\n",
    "        'Saturn Radius': -10,                           #unfilled and unreferenced\n",
    "\n",
    "    }\n",
    "    return None\n",
    "\n",
    "def initMoonsDictionary():\n",
    "    global MoonsDict\n",
    "    MoonsDict = {\n",
    "        'name': ['Mimas', 'Enceladus', 'Tethys', 'Dione', 'Rhea', 'Titan', 'Iapetus'],\n",
    "        'mass': [3.75094e19, 1.080318e20, 6.174959e20, 1.0954868e21, 2.3064854e21, 1.345180354e23, 1.8056591e21], #unreferenced and also, try masses in mega-grams \n",
    "        'semi-majorAxis': []\n",
    "        '': #need catalogue of observed positions and velocities of major moons\n",
    "    }\n",
    "    return None\n",
    "\n",
    "def initIntegratorArray():\n",
    "    \n",
    "    return None\n",
    "\n",
    "def init():\n",
    "    initMoonsDictionary()\n",
    "    return None"
   ]
  },
  {
   "cell_type": "code",
   "execution_count": null,
   "metadata": {},
   "outputs": [],
   "source": []
  }
 ],
 "metadata": {
  "kernelspec": {
   "display_name": "Python 3",
   "language": "python",
   "name": "python3"
  },
  "language_info": {
   "codemirror_mode": {
    "name": "ipython",
    "version": 3
   },
   "file_extension": ".py",
   "mimetype": "text/x-python",
   "name": "python",
   "nbconvert_exporter": "python",
   "pygments_lexer": "ipython3",
   "version": "3.11.0"
  }
 },
 "nbformat": 4,
 "nbformat_minor": 2
}
